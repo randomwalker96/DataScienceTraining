{
 "cells": [
  {
   "cell_type": "markdown",
   "metadata": {},
   "source": [
    "## Homework Assignment Questions"
   ]
  },
  {
   "cell_type": "markdown",
   "metadata": {},
   "source": [
    "#### Question1: Print the following pattern\n",
    "1 \n",
    "\n",
    "2 2 \n",
    "\n",
    "3 3 3 \n",
    "\n",
    "4 4 4 4 \n",
    "\n",
    "5 5 5 5 5 \n",
    "\n",
    "6 6 6 6 6 6 \n",
    "\n",
    "7 7 7 7 7 7 7 \n",
    "\n",
    "8 8 8 8 8 8 8 8 \n",
    "\n",
    "9 9 9 9 9 9 9 9 9"
   ]
  },
  {
   "cell_type": "markdown",
   "metadata": {},
   "source": [
    "#### Question2: Return the total count of sub-string “Emma” appearing in the given string\n",
    "sampleStr = \"Emma is good developer. Emma is a writer\""
   ]
  },
  {
   "cell_type": "markdown",
   "metadata": {},
   "source": [
    "#### Question3: Reverse the given string\n",
    "Example Input: mystring = 'Parag' <br>\n",
    "Expected output : 'garaP'"
   ]
  },
  {
   "cell_type": "markdown",
   "metadata": {},
   "source": [
    "##### Question4: Write a Python program to get a string made of the first 2 and the last 2 chars from a given a string. If the string length is less than 2, return instead the empty string.\n",
    "\n",
    "Sample String : 'w3resource' <br>\n",
    "Expected Result : 'w3ce'\n",
    "\n",
    "Sample String : 'w3' <br>\n",
    "Expected Result : 'w3w3'\n",
    "\n",
    "Sample String : ' w' <br>\n",
    "Expected Result : ''"
   ]
  },
  {
   "cell_type": "markdown",
   "metadata": {},
   "source": [
    "#### Question5: Write a Python program to remove the nth index character from a non empty string.\n",
    "Sample: if string is 'Python' and n = 3 output should be 'Pyton'"
   ]
  },
  {
   "cell_type": "markdown",
   "metadata": {},
   "source": [
    "#### Question6: take input of number from user and return if its odd or even"
   ]
  },
  {
   "cell_type": "markdown",
   "metadata": {},
   "source": [
    "#### Question7: Write a function that can take in variable length of arguments and sum them.\n",
    "Example1 Sum(1,2,3) = 6 <br>\n",
    "Example2 Sum(1,2,3,4) = 10"
   ]
  },
  {
   "cell_type": "markdown",
   "metadata": {},
   "source": [
    "#### Question8: Write a function that can take in 2 numbers as input and returns their sum, subtraction and multiplication as output\n",
    "Example1 my_func(2,1) = 3, 1, 2 <br> \n",
    "Example2 my_func(11,12) = 23, -1, 132"
   ]
  },
  {
   "cell_type": "markdown",
   "metadata": {},
   "source": [
    "#### Question9: Program a while loop:\n",
    "Define a sequence of numbers, xn=n2+1, for integers n=0,1,2,…,N. Write a program that prints out xn for n=0,1,…,20 using a while loop."
   ]
  },
  {
   "cell_type": "markdown",
   "metadata": {},
   "source": [
    "#### Question10: Swap commas and dots in a String\n",
    "Example Input : 123,43,564.021 <br>\n",
    "Expected Output : 123.43.564,021"
   ]
  },
  {
   "cell_type": "markdown",
   "metadata": {},
   "source": [
    "# Good Job!"
   ]
  }
 ],
 "metadata": {
  "kernelspec": {
   "display_name": "Python 3",
   "language": "python",
   "name": "python3"
  },
  "language_info": {
   "codemirror_mode": {
    "name": "ipython",
    "version": 3
   },
   "file_extension": ".py",
   "mimetype": "text/x-python",
   "name": "python",
   "nbconvert_exporter": "python",
   "pygments_lexer": "ipython3",
   "version": "3.8.8"
  }
 },
 "nbformat": 4,
 "nbformat_minor": 2
}
