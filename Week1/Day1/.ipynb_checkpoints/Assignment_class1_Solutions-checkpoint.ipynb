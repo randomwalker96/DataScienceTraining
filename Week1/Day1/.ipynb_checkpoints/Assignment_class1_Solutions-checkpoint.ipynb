{
 "cells": [
  {
   "cell_type": "markdown",
   "metadata": {},
   "source": [
    "## Homework Assignment Questions"
   ]
  },
  {
   "cell_type": "markdown",
   "metadata": {},
   "source": [
    "#### Question1: Print the following pattern\n",
    "1 \n",
    "\n",
    "2 2 \n",
    "\n",
    "3 3 3 \n",
    "\n",
    "4 4 4 4 \n",
    "\n",
    "5 5 5 5 5 \n",
    "\n",
    "6 6 6 6 6 6 \n",
    "\n",
    "7 7 7 7 7 7 7 \n",
    "\n",
    "8 8 8 8 8 8 8 8 \n",
    "\n",
    "9 9 9 9 9 9 9 9 9"
   ]
  },
  {
   "cell_type": "code",
   "execution_count": 1,
   "metadata": {},
   "outputs": [
    {
     "name": "stdout",
     "output_type": "stream",
     "text": [
      "\n",
      "\n",
      "1 \n",
      "\n",
      "2 2 \n",
      "\n",
      "3 3 3 \n",
      "\n",
      "4 4 4 4 \n",
      "\n",
      "5 5 5 5 5 \n",
      "\n",
      "6 6 6 6 6 6 \n",
      "\n",
      "7 7 7 7 7 7 7 \n",
      "\n",
      "8 8 8 8 8 8 8 8 \n",
      "\n",
      "9 9 9 9 9 9 9 9 9 \n",
      "\n"
     ]
    }
   ],
   "source": [
    "n=9\n",
    "for num in range(n+1):\n",
    "    for i in range(num):\n",
    "        print(num,end=\" \")\n",
    "    print(\"\\n\")"
   ]
  },
  {
   "cell_type": "markdown",
   "metadata": {},
   "source": [
    "#### Question2: Return the total count of sub-string “Emma” appearing in the given string\n",
    "sampleStr = \"Emma is good developer. Emma is a writer\""
   ]
  },
  {
   "cell_type": "code",
   "execution_count": 2,
   "metadata": {},
   "outputs": [
    {
     "data": {
      "text/plain": [
       "2"
      ]
     },
     "execution_count": 2,
     "metadata": {},
     "output_type": "execute_result"
    }
   ],
   "source": [
    "sampleStr = \"Emma is good developer. Emma is a writer\"\n",
    "sampleStr.count('Emma')"
   ]
  },
  {
   "cell_type": "markdown",
   "metadata": {},
   "source": [
    "#### Question3: Reverse the given string\n",
    "Example Input: mystring = 'Parag' <br>\n",
    "Expected output : 'garaP'"
   ]
  },
  {
   "cell_type": "code",
   "execution_count": 3,
   "metadata": {},
   "outputs": [
    {
     "data": {
      "text/plain": [
       "'garaP'"
      ]
     },
     "execution_count": 3,
     "metadata": {},
     "output_type": "execute_result"
    }
   ],
   "source": [
    "mystring = 'Parag'\n",
    "mystring[::-1]"
   ]
  },
  {
   "cell_type": "markdown",
   "metadata": {},
   "source": [
    "##### Question4: Write a Python program to get a string made of the first 2 and the last 2 chars from a given a string. If the string length is less than 2, return instead the empty string.\n",
    "\n",
    "Sample String : 'w3resource' <br>\n",
    "Expected Result : 'w3ce'\n",
    "\n",
    "Sample String : 'w3' <br>\n",
    "Expected Result : 'w3w3'\n",
    "\n",
    "Sample String : ' w' <br>\n",
    "Expected Result : ''"
   ]
  },
  {
   "cell_type": "code",
   "execution_count": 4,
   "metadata": {},
   "outputs": [
    {
     "name": "stdout",
     "output_type": "stream",
     "text": [
      "w3w3\n"
     ]
    }
   ],
   "source": [
    "mystring = 'w3'  ## 'w3resource', 'w'\n",
    "if len(mystring) < 2:  \n",
    "    print('') \n",
    "else:\n",
    "    print(mystring[0:2] + mystring[-2:]) "
   ]
  },
  {
   "cell_type": "markdown",
   "metadata": {},
   "source": [
    "#### Question5: Write a Python program to remove the nth index character from a non empty string.\n",
    "Sample: if string is 'Python' and n = 3 output should be 'Pyton'"
   ]
  },
  {
   "cell_type": "code",
   "execution_count": 5,
   "metadata": {},
   "outputs": [
    {
     "name": "stdout",
     "output_type": "stream",
     "text": [
      "Pyton\n"
     ]
    }
   ],
   "source": [
    "mystring = 'Python'\n",
    "n = 3\n",
    "first_part = mystring[:n]   \n",
    "last_part = mystring[n+1:]  \n",
    "print(first_part + last_part) "
   ]
  },
  {
   "cell_type": "markdown",
   "metadata": {},
   "source": [
    "#### Question6: take input of number from user and return if its odd or even"
   ]
  },
  {
   "cell_type": "code",
   "execution_count": 6,
   "metadata": {},
   "outputs": [
    {
     "name": "stdout",
     "output_type": "stream",
     "text": [
      "Enter any number to test whether it is odd or even: 12\n",
      "The number is even\n"
     ]
    }
   ],
   "source": [
    "num = int(input(\"Enter any number to test whether it is odd or even: \"))\n",
    "if(num%2) == 0:\n",
    "    print(\"The number is even\")\n",
    "else:\n",
    "    print(\"The provided number is odd\")"
   ]
  },
  {
   "cell_type": "markdown",
   "metadata": {},
   "source": [
    "#### Question7: Write a function that can take in variable length of arguments and sum them.\n",
    "Example1 Sum(1,2,3) = 6 <br>\n",
    "Example2 Sum(1,2,3,4) = 10"
   ]
  },
  {
   "cell_type": "code",
   "execution_count": 8,
   "metadata": {},
   "outputs": [
    {
     "data": {
      "text/plain": [
       "10"
      ]
     },
     "execution_count": 8,
     "metadata": {},
     "output_type": "execute_result"
    }
   ],
   "source": [
    "def sum_func(*numbers):\n",
    "    sum_temp = 0\n",
    "    for i in numbers:\n",
    "        sum_temp = sum_temp + i\n",
    "    return sum_temp\n",
    "sum_func(1,2,3,4)"
   ]
  },
  {
   "cell_type": "markdown",
   "metadata": {},
   "source": [
    "#### Question8: Write a function that can take in 2 numbers as input and returns their sum, subtraction and multiplication as output\n",
    "Example1 my_func(2,1) = 3, 1, 2 <br> \n",
    "Example2 my_func(11,12) = 23, -1, 132"
   ]
  },
  {
   "cell_type": "code",
   "execution_count": 10,
   "metadata": {},
   "outputs": [
    {
     "data": {
      "text/plain": [
       "(23, -1, 132)"
      ]
     },
     "execution_count": 10,
     "metadata": {},
     "output_type": "execute_result"
    }
   ],
   "source": [
    "def my_func(num1, num2):\n",
    "    return num1+num2, num1 - num2, num1*num2\n",
    "\n",
    "my_func(11,12)"
   ]
  },
  {
   "cell_type": "markdown",
   "metadata": {},
   "source": [
    "#### Question9: Program a while loop:\n",
    "Define a sequence of numbers, xn=(n^2)+1, for integers n=0,1,2,…,N. Write a program that prints out xn for n=0,1,…,20 using a while loop."
   ]
  },
  {
   "cell_type": "code",
   "execution_count": 12,
   "metadata": {},
   "outputs": [
    {
     "name": "stdout",
     "output_type": "stream",
     "text": [
      "1\n",
      "2\n",
      "5\n",
      "10\n",
      "17\n",
      "26\n",
      "37\n",
      "50\n",
      "65\n",
      "82\n",
      "101\n",
      "122\n",
      "145\n",
      "170\n",
      "197\n",
      "226\n",
      "257\n",
      "290\n",
      "325\n",
      "362\n",
      "401\n"
     ]
    }
   ],
   "source": [
    "n = 0\n",
    "while n <= 20:\n",
    "    x_n = n**2 + 1\n",
    "    print(x_n)\n",
    "    n = n + 1"
   ]
  },
  {
   "cell_type": "markdown",
   "metadata": {},
   "source": [
    "#### Question10: Swap commas and dots in a String\n",
    "Example Input : 123,43,564.021 <br>\n",
    "Expected Output : 123.43.564,021"
   ]
  },
  {
   "cell_type": "code",
   "execution_count": 13,
   "metadata": {},
   "outputs": [
    {
     "data": {
      "text/plain": [
       "'123.43.564,021'"
      ]
     },
     "execution_count": 13,
     "metadata": {},
     "output_type": "execute_result"
    }
   ],
   "source": [
    "def Replace(str1):\n",
    "    str1 = str1.replace(',', 'var_new')\n",
    "    str1 = str1.replace('.', ',')\n",
    "    str1 = str1.replace('var_new', '.')\n",
    "    return str1\n",
    "     \n",
    "string = \"123,43,564.021\"\n",
    "Replace(string)"
   ]
  },
  {
   "cell_type": "markdown",
   "metadata": {},
   "source": [
    "# Good Job!"
   ]
  }
 ],
 "metadata": {
  "kernelspec": {
   "display_name": "Python 3",
   "language": "python",
   "name": "python3"
  },
  "language_info": {
   "codemirror_mode": {
    "name": "ipython",
    "version": 3
   },
   "file_extension": ".py",
   "mimetype": "text/x-python",
   "name": "python",
   "nbconvert_exporter": "python",
   "pygments_lexer": "ipython3",
   "version": "3.8.8"
  }
 },
 "nbformat": 4,
 "nbformat_minor": 2
}
