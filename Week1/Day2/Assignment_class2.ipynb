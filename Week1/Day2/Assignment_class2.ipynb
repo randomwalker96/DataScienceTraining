{
 "cells": [
  {
   "cell_type": "markdown",
   "metadata": {},
   "source": [
    "## Homework Assignemnt Questions"
   ]
  },
  {
   "cell_type": "markdown",
   "metadata": {},
   "source": [
    "### Short Case Study"
   ]
  },
  {
   "cell_type": "markdown",
   "metadata": {},
   "source": [
    "**Scenario:** You are a Data Scientist working for a consulting firm. One of your\n",
    "colleagues from the Auditing department has asked you to help them assess the\n",
    "financial statement of organisation X.\n",
    "You have been supplied with two vectors of data: monthly revenue and monthly\n",
    "expenses for the financial year. \n",
    "\n",
    "\n",
    "Your task is to calculate the following\n",
    "financial metrics:\n",
    "- profit for each month\n",
    "- good months - where the profit was greater than the mean for the year\n",
    "- bad months - where the profit was less than the mean for the year\n",
    "- the best month - where the profit was max for the year\n",
    "- the worst month - where the profit was min for the year"
   ]
  },
  {
   "cell_type": "markdown",
   "id": "acc6c857",
   "metadata": {},
   "source": [
    "### Data"
   ]
  },
  {
   "cell_type": "code",
   "execution_count": 2,
   "id": "214b9067",
   "metadata": {},
   "outputs": [],
   "source": [
    "revenue = [14574.49, 7606.46, 8611.41, 9175.41, 8058.65, 8105.44, 11496.28, 9766.09, 10305.32, 14379.96, 10713.97, 15433.50]\n",
    "expenses = [12051.82, 5695.07, 12319.20, 12089.72, 8658.57, 840.20, 3285.73, 5821.12, 6976.93, 16618.61, 10054.37, 3803.96]\n"
   ]
  },
  {
   "cell_type": "markdown",
   "metadata": {},
   "source": [
    "### Assignment questions"
   ]
  },
  {
   "cell_type": "markdown",
   "metadata": {},
   "source": [
    "#### Q1) Try to reverse this list using slicing. a = [1,2,3,4,5,6,7,8]. Output should be - [8,7,6,5,4,3,2,1]"
   ]
  },
  {
   "cell_type": "markdown",
   "metadata": {},
   "source": [
    "#### Q2) Nested list \n",
    "nested = [[2,[37]], 4, ['hello']] <br>\n",
    "**Extract following from list: <br>**\n",
    "1. ['hello'] <br>\n",
    "2. 4 <br>\n",
    "3. l <br>\n",
    "4. [[37]] <br>\n",
    "**Change list to : [[2, [19]], 4, ['hello']]**"
   ]
  },
  {
   "cell_type": "markdown",
   "metadata": {},
   "source": [
    "#### Q4) Combine 2 lists to get single list\n",
    "Input : list1 = [1,3,5,7] ; list2 = [4,5,6,8] <br>\n",
    "Output: [1, 3, 5, 7, 4, 5, 6, 8]"
   ]
  },
  {
   "cell_type": "markdown",
   "metadata": {},
   "source": [
    "#### Q5) List operations\n",
    " b = [[1,2,3], ['Ajay','Manan', 'Heera']]. Make it [[1,2,3,4], ['Ajay','Manan', 'Heera','Dheeraj']] <br>\n",
    " list1 = [1,2,'aa',4]. Make it [1, 2, 'aaaaaa', 4]\n"
   ]
  },
  {
   "cell_type": "markdown",
   "metadata": {},
   "source": [
    "#### Q6): Write a Python program to count the occurrences of each word in a given sentence. \n",
    "Sample: 'the quick brown fox jumps over the lazy dog.' <br>\n",
    "Output: 'the': 2, 'quick': 1, 'brown': 1, 'fox': 1, 'jumps': 1, 'over': 1, 'lazy': 1, 'dog.': 1"
   ]
  },
  {
   "cell_type": "markdown",
   "metadata": {},
   "source": [
    "### Q7) What will be output:\n",
    "fruit_list1 = ['Apple', 'Berry', 'Cherry', 'Papaya'] <br>\n",
    "fruit_list2 = fruit_list1 <br>\n",
    "fruit_list3 = fruit_list1[:] <br>\n",
    "fruit_list2[0] = 'Banana' <br>\n",
    "fruit_list3[1] = 'Pear' <br>\n",
    "print(fruit_list1) <br>\n",
    "print(fruit_list2) <br>\n",
    "print(fruit_list3)"
   ]
  },
  {
   "cell_type": "markdown",
   "metadata": {},
   "source": [
    "**a)** \n",
    "['Banana', 'Berry', 'Cherry', 'Papaya'] <br>\n",
    "['Banana', 'Berry', 'Cherry', 'Papaya'] <br>\n",
    "['Apple', 'Pear', 'Cherry', 'Papaya']\n",
    "<br>\n",
    "<br>\n",
    "**b)** \n",
    "['Apple', 'Berry', 'Cherry', 'Papaya'] <br>\n",
    "['Banana', 'Berry', 'Cherry', 'Papaya'] <br>\n",
    "['Apple', 'Pear', 'Cherry', 'Papaya']\n",
    "<br>\n",
    "<br>\n",
    "**c)** \n",
    "['Apple', 'Pear', 'Cherry', 'Papaya'] <br>\n",
    "['Banana', 'Berry', 'Cherry', 'Papaya'] <br>\n",
    "['Apple', 'Pear', 'Cherry', 'Papaya']\n",
    "<br>\n",
    "<br>\n",
    "**d)** \n",
    "['Apple', 'Berry', 'Cherry', 'Papaya'] <br>\n",
    "['Banana', 'Berry', 'Cherry', 'Papaya'] <br>\n",
    "['Apple', 'Berry', 'Cherry', 'Papaya']\n"
   ]
  },
  {
   "cell_type": "code",
   "execution_count": 8,
   "metadata": {},
   "outputs": [
    {
     "name": "stdout",
     "output_type": "stream",
     "text": [
      "['Banana', 'Berry', 'Cherry', 'Papaya']\n",
      "['Banana', 'Berry', 'Cherry', 'Papaya']\n",
      "['Apple', 'Pear', 'Cherry', 'Papaya']\n"
     ]
    }
   ],
   "source": [
    "fruit_list1 = ['Apple', 'Berry', 'Cherry', 'Papaya']\n",
    "fruit_list2 = fruit_list1\n",
    "fruit_list3 = fruit_list1[:]\n",
    "fruit_list2[0] = 'Banana'\n",
    "fruit_list3[1] = 'Pear'\n",
    "print(fruit_list1)\n",
    "print(fruit_list2)\n",
    "print(fruit_list3)"
   ]
  },
  {
   "cell_type": "markdown",
   "metadata": {},
   "source": [
    "#### Q6) What will be the output of this code snippet?"
   ]
  },
  {
   "cell_type": "code",
   "execution_count": 7,
   "metadata": {},
   "outputs": [
    {
     "name": "stdout",
     "output_type": "stream",
     "text": [
      "[1, 2, 'aaaaaa', 4]\n"
     ]
    }
   ],
   "source": [
    "list1 = [1,2,'aa',4]\n",
    "list1[2] = list1[2]*3\n",
    "print(list1)"
   ]
  },
  {
   "cell_type": "code",
   "execution_count": null,
   "metadata": {},
   "outputs": [],
   "source": [
    "def word_count(str):  \n",
    "    counts = dict()  \n",
    "    words = str.split()  \n",
    "  \n",
    "    for word in words:  \n",
    "        if word in counts:  \n",
    "            counts[word] += 1  \n",
    "        else:  \n",
    "            counts[word] = 1  \n",
    "  \n",
    "    return counts  \n",
    "  \n",
    "print( word_count('the quick brown fox jumps over the lazy dog.')) \n"
   ]
  },
  {
   "cell_type": "code",
   "execution_count": null,
   "metadata": {},
   "outputs": [],
   "source": []
  },
  {
   "cell_type": "code",
   "execution_count": null,
   "metadata": {},
   "outputs": [],
   "source": [
    "nested = [[2,[37]], 4, ['hello']]\n",
    "print(nested[2])\n",
    "print(nested[1])\n",
    "print(nested[2][0][3])\n",
    "print(nested[0][1:2])\n",
    "nested[0][1][0] = 19 "
   ]
  },
  {
   "cell_type": "markdown",
   "metadata": {},
   "source": [
    "# Good Job!"
   ]
  }
 ],
 "metadata": {
  "kernelspec": {
   "display_name": "Python 3",
   "language": "python",
   "name": "python3"
  },
  "language_info": {
   "codemirror_mode": {
    "name": "ipython",
    "version": 3
   },
   "file_extension": ".py",
   "mimetype": "text/x-python",
   "name": "python",
   "nbconvert_exporter": "python",
   "pygments_lexer": "ipython3",
   "version": "3.8.8"
  }
 },
 "nbformat": 4,
 "nbformat_minor": 2
}
